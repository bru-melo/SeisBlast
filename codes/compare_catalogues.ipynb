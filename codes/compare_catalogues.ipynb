{
 "cells": [
  {
   "cell_type": "code",
   "execution_count": 1,
   "metadata": {},
   "outputs": [],
   "source": [
    "import matplotlib.pyplot as plt\n",
    "import pandas as pd "
   ]
  },
  {
   "cell_type": "code",
   "execution_count": 2,
   "metadata": {},
   "outputs": [
    {
     "data": {
      "text/html": [
       "<div>\n",
       "<style scoped>\n",
       "    .dataframe tbody tr th:only-of-type {\n",
       "        vertical-align: middle;\n",
       "    }\n",
       "\n",
       "    .dataframe tbody tr th {\n",
       "        vertical-align: top;\n",
       "    }\n",
       "\n",
       "    .dataframe thead th {\n",
       "        text-align: right;\n",
       "    }\n",
       "</style>\n",
       "<table border=\"1\" class=\"dataframe\">\n",
       "  <thead>\n",
       "    <tr style=\"text-align: right;\">\n",
       "      <th></th>\n",
       "      <th>EVENT-ID</th>\n",
       "      <th>DATE</th>\n",
       "      <th>TIME</th>\n",
       "      <th>LAT(deg)</th>\n",
       "      <th>LON(deg)</th>\n",
       "      <th>DEPTH(km)</th>\n",
       "      <th>RMS(s)</th>\n",
       "      <th>AZ-GAP(deg)</th>\n",
       "      <th>N_PHASES</th>\n",
       "    </tr>\n",
       "  </thead>\n",
       "  <tbody>\n",
       "    <tr>\n",
       "      <th>0</th>\n",
       "      <td>dias2013kwhe</td>\n",
       "      <td>2013-06-04</td>\n",
       "      <td>11:58:42.744</td>\n",
       "      <td>54.38776</td>\n",
       "      <td>-7.38951</td>\n",
       "      <td>0.0</td>\n",
       "      <td>0.408</td>\n",
       "      <td>105.6</td>\n",
       "      <td>50</td>\n",
       "    </tr>\n",
       "    <tr>\n",
       "      <th>1</th>\n",
       "      <td>dias2013kwks</td>\n",
       "      <td>2013-06-04</td>\n",
       "      <td>13:45:39.377</td>\n",
       "      <td>52.90088</td>\n",
       "      <td>-9.05663</td>\n",
       "      <td>0.0</td>\n",
       "      <td>0.308</td>\n",
       "      <td>68.8</td>\n",
       "      <td>44</td>\n",
       "    </tr>\n",
       "    <tr>\n",
       "      <th>2</th>\n",
       "      <td>dias2013kwle</td>\n",
       "      <td>2013-06-04</td>\n",
       "      <td>14:00:17.523</td>\n",
       "      <td>53.44080</td>\n",
       "      <td>-7.16199</td>\n",
       "      <td>0.0</td>\n",
       "      <td>0.412</td>\n",
       "      <td>87.2</td>\n",
       "      <td>46</td>\n",
       "    </tr>\n",
       "  </tbody>\n",
       "</table>\n",
       "</div>"
      ],
      "text/plain": [
       "       EVENT-ID        DATE          TIME  LAT(deg)  LON(deg)  DEPTH(km)  \\\n",
       "0  dias2013kwhe  2013-06-04  11:58:42.744  54.38776  -7.38951        0.0   \n",
       "1  dias2013kwks  2013-06-04  13:45:39.377  52.90088  -9.05663        0.0   \n",
       "2  dias2013kwle  2013-06-04  14:00:17.523  53.44080  -7.16199        0.0   \n",
       "\n",
       "   RMS(s)  AZ-GAP(deg)  N_PHASES  \n",
       "0   0.408        105.6        50  \n",
       "1   0.308         68.8        44  \n",
       "2   0.412         87.2        46  "
      ]
     },
     "execution_count": 2,
     "metadata": {},
     "output_type": "execute_result"
    }
   ],
   "source": [
    "#Read James quarry blast catalogue\n",
    "j_quarry_catalogue = pd.read_csv('/mnt/REPO/QUARRY-BLASTS/CATALOGS/quarry-blast-catalog-2013-2014.csv', sep = '\\s+')\n",
    "j_quarry_catalogue = j_quarry_catalogue.drop(columns=['LAT-ERR(km)', 'LON-ERR(km)','MAG(ML)'])\n",
    "catalog_header = list(j_quarry_catalogue)\n",
    "j_quarry_catalogue.head(3)"
   ]
  },
  {
   "cell_type": "code",
   "execution_count": 12,
   "metadata": {},
   "outputs": [
    {
     "data": {
      "text/html": [
       "<div>\n",
       "<style scoped>\n",
       "    .dataframe tbody tr th:only-of-type {\n",
       "        vertical-align: middle;\n",
       "    }\n",
       "\n",
       "    .dataframe tbody tr th {\n",
       "        vertical-align: top;\n",
       "    }\n",
       "\n",
       "    .dataframe thead th {\n",
       "        text-align: right;\n",
       "    }\n",
       "</style>\n",
       "<table border=\"1\" class=\"dataframe\">\n",
       "  <thead>\n",
       "    <tr style=\"text-align: right;\">\n",
       "      <th></th>\n",
       "      <th>EVENT-ID</th>\n",
       "      <th>DATE</th>\n",
       "      <th>TIME</th>\n",
       "      <th>LAT(deg)</th>\n",
       "      <th>LON(deg)</th>\n",
       "      <th>DEPTH(km)</th>\n",
       "      <th>RMS(s)</th>\n",
       "      <th>AZ-GAP(deg)</th>\n",
       "      <th>N_PHASES</th>\n",
       "    </tr>\n",
       "  </thead>\n",
       "  <tbody>\n",
       "    <tr>\n",
       "      <th>0</th>\n",
       "      <td>Q0001</td>\n",
       "      <td>2013-07-30</td>\n",
       "      <td>10:56:29.9</td>\n",
       "      <td>54.126</td>\n",
       "      <td>-8.226</td>\n",
       "      <td>0.3</td>\n",
       "      <td>0.9</td>\n",
       "      <td>84</td>\n",
       "      <td>9</td>\n",
       "    </tr>\n",
       "    <tr>\n",
       "      <th>1</th>\n",
       "      <td>Q0002</td>\n",
       "      <td>2013-09-19</td>\n",
       "      <td>10:26:45.1</td>\n",
       "      <td>52.824</td>\n",
       "      <td>-6.983</td>\n",
       "      <td>0.0</td>\n",
       "      <td>0.8</td>\n",
       "      <td>88</td>\n",
       "      <td>4</td>\n",
       "    </tr>\n",
       "    <tr>\n",
       "      <th>2</th>\n",
       "      <td>Q0003</td>\n",
       "      <td>2013-09-19</td>\n",
       "      <td>11:33:40.4</td>\n",
       "      <td>54.419</td>\n",
       "      <td>-6.664</td>\n",
       "      <td>2.7</td>\n",
       "      <td>0.2</td>\n",
       "      <td>139</td>\n",
       "      <td>4</td>\n",
       "    </tr>\n",
       "  </tbody>\n",
       "</table>\n",
       "</div>"
      ],
      "text/plain": [
       "  EVENT-ID        DATE        TIME  LAT(deg)  LON(deg)  DEPTH(km)  RMS(s)  \\\n",
       "0    Q0001  2013-07-30  10:56:29.9    54.126    -8.226        0.3     0.9   \n",
       "1    Q0002  2013-09-19  10:26:45.1    52.824    -6.983        0.0     0.8   \n",
       "2    Q0003  2013-09-19  11:33:40.4    54.419    -6.664        2.7     0.2   \n",
       "\n",
       "   AZ-GAP(deg)  N_PHASES  \n",
       "0           84         9  \n",
       "1           88         4  \n",
       "2          139         4  "
      ]
     },
     "execution_count": 12,
     "metadata": {},
     "output_type": "execute_result"
    }
   ],
   "source": [
    "#Read Senad's Catalogue of Quarry Blast\n",
    "bla_column = ['ev','EVENT_ID','DATE','ORIGIN_TIME','LATITUDE','LONGITUDE','DEPTH','RMS(s)','AZGAP(deg)','NUM_OF_PHASE_PICKS(P)','NUM_OF_PHASE_PICKS(S)','quarry','qua_lat','qua_lon','end']\n",
    "s_quarry_catalogue = pd.read_csv(\"/mnt/store/senad/repos/for_bruna/QUARRY_BLASTS/ADMIN/quarry.blast.eventlist\", delimiter='\\s+', names=bla_column)\n",
    "s_quarry_catalogue = s_quarry_catalogue.drop(columns=['ev', 'quarry', 'end'])\n",
    "columns_order = [\n",
    "    'EVENT_ID','DATE','ORIGIN_TIME','LATITUDE',\n",
    "    'LONGITUDE', 'DEPTH', 'RMS(s)','AZGAP(deg)','NUM_OF_PHASE_PICKS(P)'\n",
    "    ]\n",
    "s_quarry_catalogue = s_quarry_catalogue[columns_order]\n",
    "#now make them match\n",
    "s_quarry_catalogue.columns = catalog_header\n",
    "s_quarry_catalogue.head(3)"
   ]
  },
  {
   "cell_type": "code",
   "execution_count": 5,
   "metadata": {},
   "outputs": [
    {
     "name": "stdout",
     "output_type": "stream",
     "text": [
      "James catalogue has 1411 events. Senad's has 1113\n"
     ]
    }
   ],
   "source": [
    "#we can do some comparisons\n",
    "j_size = j_quarry_catalogue.shape[0]\n",
    "s_size = s_quarry_catalogue.shape[0]\n",
    "print(\"James catalogue has\",j_size,\"events. Senad's has\", s_size)"
   ]
  },
  {
   "cell_type": "code",
   "execution_count": 6,
   "metadata": {},
   "outputs": [
    {
     "data": {
      "text/plain": [
       "0"
      ]
     },
     "execution_count": 6,
     "metadata": {},
     "output_type": "execute_result"
    }
   ],
   "source": [
    "#let's compare the same events in both catalogues. how many of senads events are in james catalogue?\n",
    "common_events_j = j_quarry_catalogue[j_quarry_catalogue['EVENT-ID'].isin(s_quarry_catalogue['EVENT-ID'])]\n",
    "common_events_j.shape[0]"
   ]
  },
  {
   "cell_type": "code",
   "execution_count": 7,
   "metadata": {},
   "outputs": [
    {
     "data": {
      "text/plain": [
       "1113"
      ]
     },
     "execution_count": 7,
     "metadata": {},
     "output_type": "execute_result"
    }
   ],
   "source": [
    "#how many of senads events are not in james catalogue?\n",
    "uncommon_events_s = s_quarry_catalogue[~s_quarry_catalogue['EVENT-ID'].isin(j_quarry_catalogue['EVENT-ID'])]\n",
    "uncommon_events_s.shape[0]"
   ]
  },
  {
   "cell_type": "code",
   "execution_count": 8,
   "metadata": {},
   "outputs": [
    {
     "data": {
      "text/plain": [
       "1411"
      ]
     },
     "execution_count": 8,
     "metadata": {},
     "output_type": "execute_result"
    }
   ],
   "source": [
    "#how many of james events are not in senads catalogue?\n",
    "uncommon_events_j = j_quarry_catalogue[~j_quarry_catalogue['EVENT-ID'].isin(s_quarry_catalogue['EVENT-ID'])]\n",
    "uncommon_events_j.shape[0]"
   ]
  },
  {
   "cell_type": "code",
   "execution_count": 11,
   "metadata": {},
   "outputs": [
    {
     "data": {
      "text/html": [
       "<div>\n",
       "<style scoped>\n",
       "    .dataframe tbody tr th:only-of-type {\n",
       "        vertical-align: middle;\n",
       "    }\n",
       "\n",
       "    .dataframe tbody tr th {\n",
       "        vertical-align: top;\n",
       "    }\n",
       "\n",
       "    .dataframe thead th {\n",
       "        text-align: right;\n",
       "    }\n",
       "</style>\n",
       "<table border=\"1\" class=\"dataframe\">\n",
       "  <thead>\n",
       "    <tr style=\"text-align: right;\">\n",
       "      <th></th>\n",
       "      <th>EVENT</th>\n",
       "      <th>EVENT_ID</th>\n",
       "      <th>DATE</th>\n",
       "      <th>ORIGIN_TIME</th>\n",
       "      <th>LATITUDE</th>\n",
       "      <th>LAT_ERROR</th>\n",
       "      <th>LONGITUDE</th>\n",
       "      <th>LON_ERROR</th>\n",
       "      <th>DEPTH</th>\n",
       "      <th>DEP_ERROR</th>\n",
       "      <th>RMS(s)</th>\n",
       "      <th>AZGAP(deg)</th>\n",
       "      <th>MAG</th>\n",
       "      <th>NUM_OF_PHASE_PICKS</th>\n",
       "      <th>END</th>\n",
       "    </tr>\n",
       "  </thead>\n",
       "  <tbody>\n",
       "    <tr>\n",
       "      <th>0</th>\n",
       "      <td>EVENT</td>\n",
       "      <td>dias2010amlq</td>\n",
       "      <td>2010-01-07</td>\n",
       "      <td>19:30:09.740</td>\n",
       "      <td>55.14667</td>\n",
       "      <td>9.970</td>\n",
       "      <td>-7.64083</td>\n",
       "      <td>9.970</td>\n",
       "      <td>0.0</td>\n",
       "      <td>10.6</td>\n",
       "      <td>0.66</td>\n",
       "      <td>209.0</td>\n",
       "      <td>1.77</td>\n",
       "      <td>8</td>\n",
       "      <td>END</td>\n",
       "    </tr>\n",
       "    <tr>\n",
       "      <th>1</th>\n",
       "      <td>EVENT</td>\n",
       "      <td>dias2010bvgt</td>\n",
       "      <td>2010-01-26</td>\n",
       "      <td>20:47:47.060</td>\n",
       "      <td>55.15467</td>\n",
       "      <td>9.829</td>\n",
       "      <td>-7.65383</td>\n",
       "      <td>9.829</td>\n",
       "      <td>0.0</td>\n",
       "      <td>10.0</td>\n",
       "      <td>0.67</td>\n",
       "      <td>213.0</td>\n",
       "      <td>1.52</td>\n",
       "      <td>6</td>\n",
       "      <td>END</td>\n",
       "    </tr>\n",
       "    <tr>\n",
       "      <th>2</th>\n",
       "      <td>EVENT</td>\n",
       "      <td>dias2010bwcq</td>\n",
       "      <td>2010-01-27</td>\n",
       "      <td>07:51:17.890</td>\n",
       "      <td>55.11100</td>\n",
       "      <td>32.880</td>\n",
       "      <td>-7.64067</td>\n",
       "      <td>32.880</td>\n",
       "      <td>0.0</td>\n",
       "      <td>40.1</td>\n",
       "      <td>0.98</td>\n",
       "      <td>197.0</td>\n",
       "      <td>1.81</td>\n",
       "      <td>6</td>\n",
       "      <td>END</td>\n",
       "    </tr>\n",
       "  </tbody>\n",
       "</table>\n",
       "</div>"
      ],
      "text/plain": [
       "   EVENT      EVENT_ID        DATE   ORIGIN_TIME  LATITUDE  LAT_ERROR  \\\n",
       "0  EVENT  dias2010amlq  2010-01-07  19:30:09.740  55.14667      9.970   \n",
       "1  EVENT  dias2010bvgt  2010-01-26  20:47:47.060  55.15467      9.829   \n",
       "2  EVENT  dias2010bwcq  2010-01-27  07:51:17.890  55.11100     32.880   \n",
       "\n",
       "   LONGITUDE  LON_ERROR  DEPTH  DEP_ERROR  RMS(s)  AZGAP(deg)   MAG  \\\n",
       "0   -7.64083      9.970    0.0       10.6    0.66       209.0  1.77   \n",
       "1   -7.65383      9.829    0.0       10.0    0.67       213.0  1.52   \n",
       "2   -7.64067     32.880    0.0       40.1    0.98       197.0  1.81   \n",
       "\n",
       "   NUM_OF_PHASE_PICKS  END  \n",
       "0                   8  END  \n",
       "1                   6  END  \n",
       "2                   6  END  "
      ]
     },
     "execution_count": 11,
     "metadata": {},
     "output_type": "execute_result"
    }
   ],
   "source": [
    "#let's compare the same events in both catalogues. how many of senads events are in james catalogue?\n",
    "#common_events_eq = j_quarry_catalogue[j_quarry_catalogue['EVENT-ID'].isin(seq_quarry_catalogue['EVENT_ID'])]\n",
    "common_events_eq = s_quarry_catalogue[s_quarry_catalogue['EVENT-ID'].isin(seq_quarry_catalogue['EVENT_ID'])]\n",
    "uncommon_events_eq = s_quarry_catalogue[~s_quarry_catalogue['EVENT-ID'].isin(seq_quarry_catalogue['EVENT_ID'])]\n",
    "uncommon_events_eq2 = seq_quarry_catalogue[~seq_quarry_catalogue['EVENT_ID'].isin(s_quarry_catalogue['EVENT-ID'])]\n",
    "uncommon_events_eq2.head(3)\n",
    "#->>>> ASK SENAD: the eq catalogue has all the events from the qb catalogue, plus more. so what is what?"
   ]
  },
  {
   "cell_type": "code",
   "execution_count": null,
   "metadata": {},
   "outputs": [],
   "source": []
  }
 ],
 "metadata": {
  "kernelspec": {
   "display_name": "seismo",
   "language": "python",
   "name": "python3"
  },
  "language_info": {
   "codemirror_mode": {
    "name": "ipython",
    "version": 3
   },
   "file_extension": ".py",
   "mimetype": "text/x-python",
   "name": "python",
   "nbconvert_exporter": "python",
   "pygments_lexer": "ipython3",
   "version": "3.10.9"
  }
 },
 "nbformat": 4,
 "nbformat_minor": 2
}
