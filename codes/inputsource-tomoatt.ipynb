{
 "cells": [
  {
   "cell_type": "code",
   "execution_count": 8,
   "metadata": {},
   "outputs": [],
   "source": [
    "#Create input file for seismic tomography\n",
    "#Source line : id_src year month day hour min sec lat lon dep_km magnitude num_recs id_event (weight)\n",
    "#Receiver line : id_src id_rec name_rec lat lon elevation_m phase arrival_time_sec (weight)\n",
    "import numpy as np\n",
    "import pandas as pd\n",
    "import SeisBlast as sb\n",
    "seisblast_files = '/home/bmelo/bin/SeisBlast/files'"
   ]
  },
  {
   "cell_type": "code",
   "execution_count": 21,
   "metadata": {},
   "outputs": [
    {
     "data": {
      "text/html": [
       "<div>\n",
       "<style scoped>\n",
       "    .dataframe tbody tr th:only-of-type {\n",
       "        vertical-align: middle;\n",
       "    }\n",
       "\n",
       "    .dataframe tbody tr th {\n",
       "        vertical-align: top;\n",
       "    }\n",
       "\n",
       "    .dataframe thead th {\n",
       "        text-align: right;\n",
       "    }\n",
       "</style>\n",
       "<table border=\"1\" class=\"dataframe\">\n",
       "  <thead>\n",
       "    <tr style=\"text-align: right;\">\n",
       "      <th></th>\n",
       "      <th>sta</th>\n",
       "      <th>name</th>\n",
       "      <th>lat</th>\n",
       "      <th>lon</th>\n",
       "      <th>elevation</th>\n",
       "      <th>net</th>\n",
       "      <th>end</th>\n",
       "    </tr>\n",
       "  </thead>\n",
       "  <tbody>\n",
       "    <tr>\n",
       "      <th>0</th>\n",
       "      <td>STA</td>\n",
       "      <td>ILTH</td>\n",
       "      <td>54.0279</td>\n",
       "      <td>-6.3362</td>\n",
       "      <td>21.0</td>\n",
       "      <td>EI</td>\n",
       "      <td>END</td>\n",
       "    </tr>\n",
       "    <tr>\n",
       "      <th>1</th>\n",
       "      <td>STA</td>\n",
       "      <td>IWEX</td>\n",
       "      <td>52.3743</td>\n",
       "      <td>-6.7745</td>\n",
       "      <td>180.0</td>\n",
       "      <td>EI</td>\n",
       "      <td>END</td>\n",
       "    </tr>\n",
       "    <tr>\n",
       "      <th>2</th>\n",
       "      <td>STA</td>\n",
       "      <td>IDGL</td>\n",
       "      <td>55.0730</td>\n",
       "      <td>-7.5100</td>\n",
       "      <td>123.0</td>\n",
       "      <td>EI</td>\n",
       "      <td>END</td>\n",
       "    </tr>\n",
       "    <tr>\n",
       "      <th>3</th>\n",
       "      <td>STA</td>\n",
       "      <td>IGLA</td>\n",
       "      <td>53.4195</td>\n",
       "      <td>-9.3750</td>\n",
       "      <td>31.0</td>\n",
       "      <td>EI</td>\n",
       "      <td>END</td>\n",
       "    </tr>\n",
       "    <tr>\n",
       "      <th>4</th>\n",
       "      <td>STA</td>\n",
       "      <td>VAL</td>\n",
       "      <td>51.9394</td>\n",
       "      <td>-10.2442</td>\n",
       "      <td>14.0</td>\n",
       "      <td>EI</td>\n",
       "      <td>END</td>\n",
       "    </tr>\n",
       "  </tbody>\n",
       "</table>\n",
       "</div>"
      ],
      "text/plain": [
       "   sta  name      lat      lon  elevation net  end\n",
       "0  STA  ILTH  54.0279  -6.3362       21.0  EI  END\n",
       "1  STA  IWEX  52.3743  -6.7745      180.0  EI  END\n",
       "2  STA  IDGL  55.0730  -7.5100      123.0  EI  END\n",
       "3  STA  IGLA  53.4195  -9.3750       31.0  EI  END\n",
       "4  STA   VAL  51.9394 -10.2442       14.0  EI  END"
      ]
     },
     "execution_count": 21,
     "metadata": {},
     "output_type": "execute_result"
    }
   ],
   "source": [
    "james_catalogue = pd.read_csv('/mnt/REPO/QUARRY-BLASTS/CATALOGS/quarry-blast-catalog-2013-2014.csv', sep = r'\\s+')\n",
    "james_bulletins_dir = \"/mnt/REPO/QUARRY-BLASTS/BULLETINS/\"\n",
    "stations = pd.read_csv(\n",
    "    \"/mnt/store/senad/repos/for_bruna/QUARRY_BLASTS/ADMIN/Ireland_Britain_Stations\", \n",
    "    delimiter=' ',\n",
    "    names=['sta', 'name','lat', 'lon', 'elevation', 'net', 'end'])\n",
    "relocated_blasts = pd.read_csv('/home/bmelo/bin/SeisBlast/files/Eire_blasts_relocated.csv')\n",
    "#merge with the relocated quarry blasts\n",
    "relocated_catalogue = pd.merge(james_catalogue, relocated_blasts, left_on='EVENT-ID', right_on='id-ev')\n",
    "stations.head()\n"
   ]
  },
  {
   "cell_type": "code",
   "execution_count": null,
   "metadata": {},
   "outputs": [],
   "source": [
    "#Source line : id_src year month day hour min sec lat lon dep_km magnitude num_recs id_event (weight)\n",
    "#format the separate date and time formats\n",
    "relocated_catalogue['year'] = pd.to_datetime(relocated_catalogue['DATE'], format='%Y-%m-%d').dt.year\n",
    "relocated_catalogue['month'] = pd.to_datetime(relocated_catalogue['DATE'], format='%Y-%m-%d').dt.month\n",
    "relocated_catalogue['day'] = pd.to_datetime(relocated_catalogue['DATE'], format='%Y-%m-%d').dt.day\n",
    "relocated_catalogue['hour'] = pd.to_datetime(relocated_catalogue['TIME'], format='%H:%M:%S.%f').dt.hour\n",
    "relocated_catalogue['minute'] = pd.to_datetime(relocated_catalogue['TIME'], format='%H:%M:%S.%f').dt.minute\n",
    "relocated_catalogue['second'] = pd.to_datetime(relocated_catalogue['TIME'], format='%H:%M:%S.%f').dt.second + pd.to_datetime(relocated_catalogue['TIME'], format='%H:%M:%S.%f').dt.microsecond / 1e6"
   ]
  },
  {
   "cell_type": "code",
   "execution_count": 17,
   "metadata": {},
   "outputs": [
    {
     "name": "stdout",
     "output_type": "stream",
     "text": [
      "1 2013 6 4 13 45 39.377 52.8995 -9.038942 0.0 1.56 44 dias2013kwks <- source 1\n"
     ]
    }
   ],
   "source": [
    "#test it out for one line\n",
    "index_src=1\n",
    "print(\n",
    "    index_src,\n",
    "    relocated_catalogue['year'].iloc[index_src], \n",
    "    relocated_catalogue['month'].iloc[index_src], \n",
    "    relocated_catalogue['day'].iloc[index_src], \n",
    "    relocated_catalogue['hour'].iloc[index_src], \n",
    "    relocated_catalogue['minute'].iloc[index_src], \n",
    "    relocated_catalogue['second'].iloc[index_src], \n",
    "    relocated_catalogue['lat-quarry'].iloc[index_src], \n",
    "    relocated_catalogue['lon-quarry'].iloc[index_src], \n",
    "    relocated_catalogue['DEPTH(km)'].iloc[index_src], \n",
    "    relocated_catalogue['MAG(ML)'].iloc[index_src], \n",
    "    relocated_catalogue['N_PHASES'].iloc[index_src], \n",
    "    relocated_catalogue['EVENT-ID'].iloc[index_src],\n",
    "    '<- source 1')\n"
   ]
  },
  {
   "cell_type": "code",
   "execution_count": 55,
   "metadata": {},
   "outputs": [
    {
     "data": {
      "text/plain": [
       "0    2013-06-04 13:46:06.969\n",
       "1    2013-06-04 13:45:52.391\n",
       "2    2013-06-04 13:45:44.990\n",
       "3    2013-06-04 13:45:49.215\n",
       "4                        NaT\n",
       "5    2013-06-04 13:45:57.770\n",
       "6    2013-06-04 13:46:05.229\n",
       "7    2013-06-04 13:46:06.311\n",
       "8    2013-06-04 13:46:01.204\n",
       "9    2013-06-04 13:45:42.807\n",
       "10   2013-06-04 13:45:56.032\n",
       "11                       NaT\n",
       "12   2013-06-04 13:46:05.258\n",
       "13   2013-06-04 13:45:50.171\n",
       "14   2013-06-04 13:46:06.511\n",
       "15                       NaT\n",
       "16   2013-06-04 13:45:51.418\n",
       "17   2013-06-04 13:45:52.333\n",
       "18   2013-06-04 13:45:52.133\n",
       "19                       NaT\n",
       "20                       NaT\n",
       "21                       NaT\n",
       "22   2013-06-04 13:46:14.776\n",
       "23   2013-06-04 13:46:03.913\n",
       "24   2013-06-04 13:46:01.804\n",
       "Name: P, dtype: datetime64[ns]"
      ]
     },
     "execution_count": 55,
     "metadata": {},
     "output_type": "execute_result"
    }
   ],
   "source": [
    "#Receiver line : id_src id_rec name_rec lat lon elevation_m phase arrival_time_sec (weight)\n",
    "#need to fetch from the bulletin files\n",
    "ev_id = relocated_catalogue['EVENT-ID'].iloc[index_src]\n",
    "df,info = sb.list_picks(james_catalogue,james_bulletins_dir,ev_id)\n",
    "index_rec = 1\n",
    "station_info = stations[stations['name']==df['sta'].iloc[index_rec]]\n",
    "df['time']['P']\n",
    "# print(\n",
    "#     index_src,\n",
    "#     index_rec, \n",
    "#     df['sta'].iloc[index_rec], \n",
    "#     station_info['lat'].item(), \n",
    "#     station_info['lon'].item(), \n",
    "#     station_info['elevation'].item(), \n",
    "#     # df['phase']['P'].iloc[index_rec], \n",
    "#     # df['time']['P'].iloc[index_rec],\n",
    "#     '<- receiver 1')\n"
   ]
  },
  {
   "cell_type": "code",
   "execution_count": null,
   "metadata": {},
   "outputs": [],
   "source": [
    "\n",
    "# Load station data to lon lat file and dataframe\n",
    "stations_head = ['sta', 'name','lat', 'lon', 'elevation', 'net', 'end']\n",
    "stations = pd.read_csv(\n",
    "    \"/mnt/store/senad/repos/for_bruna/QUARRY_BLASTS/ADMIN/Ireland_Britain_Stations\", \n",
    "    delimiter=' ',\n",
    "    names=stations_head)\n",
    "\n",
    "\n",
    "#Load quarry data\n",
    "quarries = pd.read_csv(\n",
    "    '/home/bmelo/bin/Quarry/James_files/IRELAND.quarry.coords.txt',\n",
    "    sep = r'\\s+',\n",
    "    header=None,\n",
    "    names=['name','co','lat','lon'])\n",
    "\n",
    "#Load relocated quarry blasts\n",
    "\n"
   ]
  }
 ],
 "metadata": {
  "kernelspec": {
   "display_name": "seisblast",
   "language": "python",
   "name": "python3"
  },
  "language_info": {
   "codemirror_mode": {
    "name": "ipython",
    "version": 3
   },
   "file_extension": ".py",
   "mimetype": "text/x-python",
   "name": "python",
   "nbconvert_exporter": "python",
   "pygments_lexer": "ipython3",
   "version": "3.12.4"
  }
 },
 "nbformat": 4,
 "nbformat_minor": 2
}
